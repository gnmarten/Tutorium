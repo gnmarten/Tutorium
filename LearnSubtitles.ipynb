{
 "cells": [
  {
   "cell_type": "code",
   "execution_count": null,
   "metadata": {
    "lines_to_next_cell": 0
   },
   "outputs": [],
   "source": [
    "from platform import python_version\n",
    "\n",
    "print(python_version())"
   ]
  },
  {
   "cell_type": "code",
   "execution_count": 3,
   "metadata": {},
   "outputs": [
    {
     "data": {
      "text/plain": [
       "'C:\\\\Users\\\\gnmarten\\\\AppData\\\\Local\\\\Continuum\\\\anaconda3\\\\envs\\\\python36\\\\python.exe'"
      ]
     },
     "execution_count": 3,
     "metadata": {},
     "output_type": "execute_result"
    }
   ],
   "source": [
    "import sys\n",
    "sys.executable"
   ]
  },
  {
   "cell_type": "code",
   "execution_count": null,
   "metadata": {},
   "outputs": [],
   "source": [
    "import re\n",
    "import srt\n",
    "import spacy\n",
    "import wordfreq as wf"
   ]
  },
  {
   "cell_type": "code",
   "execution_count": 5,
   "metadata": {},
   "outputs": [],
   "source": [
    "nlp = spacy.load('de_core_news_md', disable=[\"ner\"])  # md or sm\n"
   ]
  },
  {
   "cell_type": "code",
   "execution_count": null,
   "metadata": {},
   "outputs": [],
   "source": [
    "import spacy\n",
    "\n",
    "# Load model (German language)\n",
    "bert_model = spacy.load('de_trf_bertbasecased_lg')\n",
    "\n",
    "# Run model \n",
    "result = bert_model(\"This is just a test input\")"
   ]
  },
  {
   "cell_type": "code",
   "execution_count": null,
   "metadata": {},
   "outputs": [],
   "source": [
    "nlp = spacy.load('de')"
   ]
  },
  {
   "cell_type": "code",
   "execution_count": 3,
   "metadata": {},
   "outputs": [],
   "source": [
    "def remove_duplicated_and_uppercase_words(word_list):\n",
    "    \"\"\"Removes duplicated and uppercase words from a list \"\"\"\n",
    "    if word_list:\n",
    "        my_list_temp = []\n",
    "        for word in word_list:\n",
    "            if word.isupper():\n",
    "                word = word.lower()\n",
    "            if word.lower() not in my_list_temp:\n",
    "                if word not in my_list_temp:\n",
    "                    my_list_temp.append(word)\n",
    "        return my_list_temp\n",
    "    else:\n",
    "        return []"
   ]
  },
  {
   "cell_type": "code",
   "execution_count": 4,
   "metadata": {},
   "outputs": [],
   "source": [
    "def clean_line(raw_line):\n",
    "    \"\"\"Removes tags, eventual line breaks and special characters \"\"\"\n",
    "\n",
    "    allowed_characters = \" .,?!0123456789abcdefghijklmnopqrstuvwxyzABCDEFGHIJKLMNOPQRSTUVWXYZöäüÖÄÜß\"\n",
    "\n",
    "    p1 = re.compile(r'<.*?>')  # removes tags\n",
    "    new_line = p1.sub('', raw_line)\n",
    "    new_line = re.sub('\\n', ' ', new_line)  # removes \\n\n",
    "    new_line = ''.join(c for c in new_line if c in allowed_characters)\n",
    "    re.sub(\"\\s\\s+\", \" \", new_line)  # removes multiple spaces\n",
    "    return new_line"
   ]
  },
  {
   "cell_type": "code",
   "execution_count": 5,
   "metadata": {},
   "outputs": [],
   "source": [
    "def clean_text(raw_text):\n",
    "    \"\"\"Removes multiple spaces from text \"\"\"\n",
    "    re.sub(\"\\s\\s+\", \" \", raw_text)\n",
    "    "
   ]
  },
  {
   "cell_type": "code",
   "execution_count": 14,
   "metadata": {},
   "outputs": [],
   "source": [
    "class LearnSubtitles:\n",
    "    def __init__(self, subtitle_path: str, language='de'):\n",
    "        \"\"\"\n",
    "        Base class for LearnSubtitles.\n",
    "        :type subtitle_path: str : path for the srt file\n",
    "        :param language: language of the subtitle.\n",
    "        :param text: Subtitle text (not tokenized).\n",
    "        :important_words: tokenized text, without stopwords\n",
    "        :param study\n",
    "\n",
    "        \"\"\"\n",
    "        self.subtitle_path = subtitle_path\n",
    "        self.language = language\n",
    "        self.text = ''\n",
    "        self.tokens = ''\n",
    "        self.important_words = ''\n",
    "        self.study_dict = {}\n",
    "\n",
    "        # Open subtitle file and pre-process it\n",
    "        try:\n",
    "            with open(subtitle_path, encoding='utf-8') as raw_subtitle:\n",
    "                subs = list(srt.parse(raw_subtitle))  # extract texts with srt\n",
    "                for i in range(len(subs)):\n",
    "                    self.text += clean_line(subs[i].content) + ' '\n",
    "                clean_text(self.text)\n",
    "\n",
    "        except FileNotFoundError:\n",
    "            print(f'File not found at {subtitle_path}')\n",
    "        except srt.SRTParseError:\n",
    "            print('The srt file has parsing problems. Trying to fix the File.')\n",
    "            with open(subtitle_path, \"r\", encoding='utf-8') as f:\n",
    "                lines = f.readlines()\n",
    "                maintain = False\n",
    "                with open(\"reworked_subtitle.srt\", \"w\", encoding='utf-8') as new_f:\n",
    "                    for line in lines:\n",
    "                        if re.match(\"^.?1(\\n)?$\", line) != None or maintain:\n",
    "                            if not maintain:\n",
    "                                new_f.write('1\\n')\n",
    "                            else:\n",
    "                                new_f.write(line)\n",
    "                            maintain = True\n",
    "            try:\n",
    "                with open(\"reworked_subtitle.srt\", encoding='utf-8') as raw_subtitle:\n",
    "                    subs = list(\n",
    "                        srt.parse(raw_subtitle))  # extract texts with srt\n",
    "                    for i in range(len(subs)):\n",
    "                        self.text = self.text + clean_line(\n",
    "                            subs[i].content) + ' '\n",
    "                    clean_text(self.text)\n",
    "            except FileNotFoundError:\n",
    "                print(f'File not found at {subtitle_path}')\n",
    "            except srt.SRTParseError:\n",
    "                print(\n",
    "                    'The srt file still has parsing problems. Try to fix it manually.')\n",
    "\n",
    "        self.__tokenize_and_process()\n",
    "        self.__create_study_dicts()\n",
    "\n",
    "    def __repr__(self):\n",
    "        print(self.text)\n",
    "\n",
    "    def __tokenize_and_process(self):\n",
    "        \"\"\"Tokenize text and extract most important words\"\"\"\n",
    "        self.tokens = nlp(self.text)\n",
    "        # separate words that may be useful\n",
    "        important_words_raw = [token.lemma_ for token in self.tokens if\n",
    "                               not token.is_oov\n",
    "                               and not token.is_stop\n",
    "                               and not token.is_punct\n",
    "                               and not token.like_num\n",
    "                               and token.tag != 'NE'  # optional\n",
    "                               and token.pos_ != 'PROPN']\n",
    "\n",
    "        self.important_words = remove_duplicated_and_uppercase_words(\n",
    "            important_words_raw)\n",
    "\n",
    "    def __create_study_dicts(self):\n",
    "        for word in self.important_words:\n",
    "            word_freq = wf.zipf_frequency(word, self.language)\n",
    "            if word_freq >= 5:\n",
    "                self.study_dict[word] = 'easy'\n",
    "            elif word_freq >= 3.5:\n",
    "                self.study_dict[word] = 'intermediate'\n",
    "            else:\n",
    "                self.study_dict[word] = 'advanced'\n",
    "\n",
    "    def print_dict(self, level='easy'):  # level = easy/intermediate/advanced\n",
    "        return (\n",
    "        [word for word in self.study_dict if self.study_dict[word] == level])"
   ]
  },
  {
   "cell_type": "code",
   "execution_count": 15,
   "metadata": {},
   "outputs": [],
   "source": [
    "def main():\n",
    "    filename: str = '2020-03-09_ZDF_Unterleuten - Unterleuten - Das zerrissene Dorf (1) - Unterleuten - Unterleuten - Das zerrissene Dorf (1)_http_veryhigh_deu_Audiodeskription.srt'\n",
    "    sub_dir = \"testfiles/\"\n",
    "    #filename: str = 'Dark.S01E01.WEBRip.x264-STRiFE.German.srt'\n",
    "    #filename: str = 'Im.Juli.srt'\n",
    "    subtitle_path = sub_dir + filename\n",
    "    dark = LearnSubtitles(subtitle_path)\n",
    "\n",
    "    print(dark.print_dict(level='easy'))\n",
    "    print('\\n\\n######INTERMEDIATE WORDS#######')\n",
    "    print(dark.print_dict(level='intermediate'))\n",
    "    print('\\n\\n######ADVANCED WORDS#######')\n",
    "    print(dark.print_dict(level='advanced'))"
   ]
  },
  {
   "cell_type": "code",
   "execution_count": 16,
   "metadata": {},
   "outputs": [
    {
     "name": "stdout",
     "output_type": "stream",
     "text": [
      "['Lassen', 'Egal', 'wissen', 'glauben', 'weiß', 'genau', 'all', 'Rolle', 'bringen', 'einigen', 'Sommer', 'stehen', 'bevor', 'Musik', 'hören', 'Frau', 'Zahl', 'gut', 'sehen', 'denken', 'verstehen', 'Schule', 'Sogar', 'Leute', 'fahren', 'Mann', 'Meter', 'Wasser', 'Dank', 'Herr', 'Schön', 'Laut', 'sagen', 'Haus', 'hab', 'Titel', 'Stück', 'drauf', 'finden', 'tun', 'laut', 'arbeiten', 'Suche', 'helfen', 'Oh', 'Wieso', 'lassen', 'Abend', 'sollen', 'Wahrscheinlich', 'kommen', 'Vater', 'Problem', 'alt', 'einfach', 'mal', 'bisschen', 'Art', 'Guten', 'sprechen', 'rein', 'leben', 'Bedeutung', 'frei', 'machen', 'eigentlich', 'echt', 'Welt', 'voll', 'sofort', 'Typ', 'reden', 'Erfolg', 'halten', 'weg', 'schön', 'Meinung', 'Chance', 'Jahr', 'mein', 'eher', 'bitte', 'Woche', 'halt', 'kaufen', 'gestern', 'letzte', 'mindestens', 'paar', 'ernst', 'liegen', 'erhalten', 'Sicher', 'nehmen', 'brauchen', 'fast', 'Name', 'Dr.', 'fragen', 'Stelle', 'zeigen', 'Polizei', 'gehen', 'Tochter', 'bekommen', 'Sache', 'gerne', 'Land', 'kosten', 'lässt', 'rechts', 'Steht', 'Eltern', 'Angst', 'Euro', 'Junge', 'rede', 'Prozent', 'Läuft', 'Idee', 'Stimmt', 'Kopf', 'Geld', 'Auto', 'Kennen', 'schlecht', 'Verbindung', 'egal', 'neu', 'Moment', 'geben', 'Kind', 'schwarz', 'können', 'Mach', 'Stunde', 'super', 'essen', 'Stadt', 'ziehen', 'suchen', 'haben', 'sein', 'Platz', 'Person', 'Freund', 'Beste', 'Zukunft', 'kennen', 'Glaube', 'Richtung', 'Rahmen', 'vergessen', 'direkt', 'sogar', 'überall', 'stellen', 'Entscheidung', 'Gemeinde', 'Höhe', 'Scheiße', 'Wort', 'zahlen', 'Berliner', 'wichtig', 'Frage', 'danke', 'Interesse', 'Firma', 'groß', 'Fehler', 'Straße', 'Möglichkeit', 'gehören', 'laufen', 'Hand', 'gewinnen', 'sorgen', 'Geschichte', 'Familie', 'Krieg', 'Ziel', 'bleiben', 'ziemlich', 'lesen', 'Spiel', 'spielen', 'Klar', 'Findet', 'Sonntag', 'mach', 'erreichen', 'Natur', 'unternehmen', 'Kampf', 'Arbeit', 'krieg', 'Pro', 'Wert', 'Sohn', 'Fall', 'Monat', 'Ergebnis', 'folgen', 'Projekt', 'Seite', 'Lage', 'Wahl', 'gemeinsam', 'Sieht']\n",
      "\n",
      "\n",
      "######INTERMEDIATE WORDS#######\n",
      "['erzählen', 'behaupten', 'geschehen', 'Stein', 'werfen', 'Schreckliche', 'heiß', 'Korn', 'reif', 'Ernte', 'unmittelbar', 'ruhig', 'nähern', 'kommend', 'Ruf', 'Hund', 'Leine', 'nervös', 'sanfte', 'Klang', 'Hektar', 'Besitzer', 'Hm', 'Gebiet', 'nötigen', 'hinbekommen', 'Arzt', 'Apotheke', 'Läden', 'Landschaft', 'Trinkwasser', 'tief', 'trinken', 'Scheißen', 'ändern', 'aufwärts', 'sichern', 'aufregen', 'Handy', 'Fahrt', 'vorsichtig', 'Gegenteil', 'anrufen', 'Termin', 'Umweg', 'Minute', 'herkommen', 'Sage', 'schnellen', 'überleg', 'freu', 'Freuen', 'früh', 'sanft', 'pfeifen', 'kehren', 'Katze', 'längst', 'hol', 'Rad', 'fahr', 'Klinik', 'Worum', 'brauche', 'leid', 'Schatz', 'Papa', 'Lag', 'vorm', 'frag', 'Ferne', 'hinterher', 'extra', 'Hals', 'schmeißen', 'bestimmen', 'Schlimmste', 'annehmen', 'Hilft', 'fein', 'Bürgermeister', 'Besuch', 'vorkommen', 'Gehst', 'verraten', 'tot', 'Garten', 'Motor', 'starten', 'stumm', 'Gruß', 'Äh', 'Leidenschaft', 'Gras', 'wachsen', 'rate', 'Tierarzt', 'Hoffnung', 'heißen', 'russisch', 'Rückwärts', 'Schlag', 'pass', 'Baby', 'angeregt', 'Gespräch', 'besorgen', 'Freiheit', 'wache', 'morgens', 'fühl', 'Lärm', 'Wette', 'Naturschutz', 'schützen', 'Vogel', 'lachen', 'zählen', 'Individuum', 'letzt', 'Soziologie', 'hm', 'lehre', 'Brandenburger', 'integrieren', 'tauschen', 'Austausch', 'blond', 'Studentin', 'Rat', 'sitze', 'Werkstatt', 'nebenan', 'stimmen', 'laden', 'Schrott', 'Kram', 'Hof', 'Verbrecher', 'Russe', 'riesig', 'aufmachen', 'Öl', 'Benzin', 'Kopfhörer', 'entscheiden', 'Zorn', 'rechnen', 'Wahrheit', 'grundlegende', 'Kategorie', 'Gewinn', 'Verlieren', 'wecken', 'sitzen', 'Rechner', 'Espresso', 'Ahnung', 'räumen', 'eh', 'dreckig', 'Wär', 'anziehen', 'Wiese', 'Weide', 'Investor', 'nehm', 'Hoff', 'jedenfalls', 'leisten', 'Dusche', 'Vergiss', 'riesen', 'Entschuldige', 'seh', 'Geschäftsmodell', 'ergreifen', 'bieten', 'klingen', 'motivieren', 'tollen', 'Kaffee', 'Lade', 'geh', 'klappen', 'sag', 'warnen', 'Kleid', 'Ts', 'Feld', 'sage', 'anfangen', 'Schick', 'fehlen', 'fangen', 'ruf', 'Pol', 'schick', 'selber', 'Bein', 'brechen', 'worum', 'Idiot', 'überraschen', 'leise', 'sterben', 'Geste', 'Freundschaft', 'Zufall', 'umbringen', 'vergeben', 'Fass', 'Tier', 'ah', 'ängstlich', 'Teufel', 'spinnen', 'Irgendwo', 'grad', 'vorhin', 'Droge', 'retten', 'wär', 'Verantwortung', 'Partner', 'Angestellte', 'legen', 'wohnen', 'Wohngebiet', 'Grundwasser', 'Hä', 'Willkommen', 'Nachbarschaft', 'Regel', 'scheißen', 'rufen', 'dauern', 'ewig', 'rüber', 'böse', 'spüren', 'verbrennen', 'drüben', 'irgendwelchen', 'Müll', 'Brunnen', 'Wald', 'interessieren', 'Sau', 'Rauch', 'Glas', 'Bekannter', 'Quadratmeter', 'ehe', 'versehen', 'besitzen', 'Baum', 'Halle', 'Kraft', 'Schönheit', 'Wille', 'Pferd', 'Respekt', 'erklären', 'verkaufen', 'neugierig', 'basieren', 'Supermarkt', 'Parkplatz', 'Dorf', 'bezahlen', 'mögen', 'Geschäft', 'meinetwegen', 'schöne', 'dran', 'ausziehen', 'Arschloch', 'erwarten', 'Frederick', 'unterstützen', 'Pfeife', 'tanzen', 'Leg', 'Wagen', 'lahm', 'brauch', 'Staubsauger', 'einkaufen', 'Sekt', 'Tür', 'fällen', 'Korb', 'Guck', 'blau', 'Fleck', 'Ähnliches', 'Möglicherweise', 'bedeuten', 'Unglück', 'Brust', 'pleite', 'Red', 'Unsinn', 'Klopfen', 'Kollege', 'Beschwerde', 'Computer', 'Held', 'verschieben', 'Hotel', 'kaputt', 'Hauptsache', 'mitten', 'springen', 'Nachbar', 'illegale', 'hinweisen', 'Kurzem', 'Schatten', 'Herrn', 'Prima', 'Vorschlag', 'erstickt', 'ahnen', 'Tipp', 'Bindet', 'Gift', 'riechen', 'total', 'Gummi', 'rauchen', 'begriffen', 'weitermachen', 'Bude', 'leeren', 'Lass', 'Vieh', 'Mama', 'passieren', 'Ding', 'Ständig', 'irgendwelche', 'Kommst', 'planen', 'diesmal', 'Zieh', 'Schuh', 'engen', 'hör', 'Stecker', 'reparieren', 'mitnehmen', 'Dauert', 'Opa', 'denk', 'woanders', 'Ruhe', 'Müde', 'aufs', 'Tasse', 'Schrank', 'austauschen', 'Unterschied', 'feststellen', 'Lebewesen', 'Spielzeug', 'froh', 'abnehmen', 'freuen', 'kranken', 'Veranstaltung', 'bloß', 'Vorne', 'Villa', 'aufm', 'halbe', 'Programmierer', 'Beruf', 'Schau', 'Fantastisch', 'herum', 'Demokratie', 'gelebt', 'Fenster', 'Schluss', 'übergeben', 'Mikrofon', 'Herzlich', 'willkommen', 'Pilz', 'beweise', 'Marktführer', 'Landesregierung', 'potenziellen', 'nachhaltig', 'erzeugen', 'Energie', 'Freude', 'Nachricht', 'identifizieren', 'gerissen', 'bauen', 'aufstellen', 'Wussten', 'beruhigen', 'lediglich', 'Anlage', 'streng', 'einhalten', 'Gewässer', 'komisch', 'praktisch', 'Gelächter', 'Anforderung', 'erfüllen', 'Selbstverständlich', 'erkennen', 'seitlich', 'namens', 'gucken', 'Bleib', 'errichten', 'neuesten', 'Generation', 'glücklicherweise', 'Meer', 'Lache', 'ökologisch', 'Kölner', 'Dom', 'jährlich', 'Einnahme', 'dringen', 'Feuerwehr', 'Engagement', 'Energiewende', 'aufgestellt', 'raten', 'Tasche', 'fließen', 'wahnsinnig', 'Schwachsinn', 'versichern', 'verhindern', 'Beifall', 'Eingriff', 'einzigartig', 'Katastrophe', 'reagieren', 'extrem', 'empfindlich', 'klein', 'Beitrag', 'Broschüre', 'beantworten', 'ausführlich', 'komplex', 'fertigen', 'Information', 'Ausschreibung', 'angucken', 'Klappe', 'Mütze', 'Verstanden', 'Aufstellung', 'gesamt', 'Bestand', 'Ordnung', 'entstehen', 'Eins', 'rufe', 'kümmern', 'ans', 'Telefon', 'aufhalten', 'einzig', 'Weißt', 'sowieso', 'übernachten', 'Arm', 'harmlos', 'Aufregung', 'regen', 'Protest', 'Plakat', 'warten', 'Allgemeine', 'Begeisterung', 'verstecken', 'ärgern', 'Freut', 'waschen', 'holen', 'irgendeinen', 'wertlos', 'Acker', 'privat', 'Knochen', 'Letzter', 'rennen', 'Idioten', 'dramatisch', 'Unrecht', 'handeln', 'wovon', 'Friede', 'Rudolf', 'schlagen', 'Dach', 'getragen', 'Erklär', 'Ausschnitt', 'frisst', 'betrachten', 'aufbauen', 'Vorstellung', 'Farm', 'funktionieren', 'flexibel', 'Gelingt', 'bescheuert', 'versuch', 'schlau', 'lass', 'mitmachen', 'Fuchs', 'heimlich', 'Seidel', 'stell', 'Kostüm', 'auftauchen', 'ernsthaft', 'Woher', 'Schreibtisch', 'Aha', 'Tisch', 'Minister', 'Umweltschutz', 'made', 'Germany', 'Find', 'Sorge', 'kriegen', 'Ministerium', 'scheiß', 'Inzwischen', 'Politiker', 'zerstören', 'ausmachen', 'Albtraum', 'schweigen', 'Arsch', 'Wahnsinn', 'Netz', 'mobilisieren', 'verlieben', 'Haltung', 'vertreten', 'ordentlich', 'Professor', 'Heimat', 'großartige', 'treten', 'Fuß', 'gefährlich', 'schlafe', 'Kontakt', 'offizielle', 'Vorschrift', 'irgendwas', 'hoffen', 'Verstehe', 'Hut', 'Farbe', 'unbedingt', 'kippen', 'Grundstück', 'Schönes', 'Verhandeln', 'einig', 'wüsste', 'verhandeln', 'Kauft', 'wisst', 'Schloss', 'Verwalter', 'Unternehmer', 'Ton', 'decken', 'draußen', 'Chef', 'aussprechen', 'Auktion', 'halb', 'Landkreis', 'Scheune', 'Stall', 'informieren', 'Maschine', 'Material', 'Genehmigung', 'drüber', 'sparen', 'Sekretärin', 'ausrichten', 'Schicksal', 'Großem', 'Spur', 'bewusst', 'Eindruck', 'Performance', 'zufrieden', 'äußern', 'optimistisch', 'Mühe', 'Laufende', 'grüßen', 'herzlich', 'verlieren', 'schicke', 'Verhinderung', 'Wachstum', 'Fortschritt', 'besitze', 'unfair', 'lokal', 'Größenordnung', 'erfahren', 'jagen', 'weh', 'Schmerz', 'reine', 'verschaffen', 'Ehre', 'stoppen', 'angesehen', 'verdienen', 'Scherz', 'Wende', 'Abschuss', 'fett', 'Nagel', 'reißen', 'Nachts', 'eingeschlagen', 'Schädel', 'übel', 'Passen', 'womit', 'packen', 'verschwinden', 'Ärger', 'Untertitel', 'Auftrag']\n",
      "\n",
      "\n",
      "######ADVANCED WORDS#######\n",
      "['spannungsvolle', 'Titelmusik', 'Kathrin', 'Grillenzirpen', 'Vogelgezwitscher', 'Hufgetrappel', 'Bellen', 'Wiehern', 'Schnauben', 'Fidi', 'Schiefe', 'Kappe', 'unbürokratisch', 'Krähen', 'Blühende', 'Horizontalfilterbrunnen', 'Sammelgruben', 'Kanalisation', 'Grüß', 'Spontaner', 'Einfall', 'Knurren', 'melancholische', 'Krönchen', 'Windrauschen', 'Kümmerst', 'Fallwild', 'sarkastisch', 'umdrehen', 'Dorfversammlung', 'Weltherrschaft', 'Quere', 'Rechtsmedizinerin', 'Querulant', 'raffiniert', 'lpg', 'Motorgeräusche', 'brabbeln', 'metallisch', 'Krachen', 'Arschgeigen', 'Hebebühne', 'Vollidioten', 'glotzen', 'Verkehrslärm', 'Gerenne', 'Konsumterror', 'Umweltschutzbehörde', 'Außenstelle', 'Kampfläufer', 'Ornithologen', 'intellektuell', 'Schrottplatz', 'stinken', 'verrücken', 'angeguckt', 'reinhauen', 'Mitmensch', 'Meiler', 'Immobilienhai', 'Mittelfristiges', 'bestell', 'nächst', 'verträumen', 'Puff', 'besorg', 'Erntehelfer', 'ausfällen', 'brech', 'eigenhändig', 'ungeduldig', 'Hupe', 'hupen', 'Maunzen', 'Schaller', 'Komischer', 'vertrau', 'Kätzchen', 'fauchen', 'Autsch', 'Miauen', 'Hilde', 'Leichteres', 'Navi', 'heimkommen', 'Phillip', 'jed', 'Vogelschreie', 'Fließ', 'Autowerkstatt', 'Mischgebiet', 'verseuchen', 'Bebauungsplan', 'vorsehen', 'Naturschutzgebiet', 'Sauerei', 'einpacken', 'angespannt', 'klarmachen', 'Typus', 'unterbelichtet', 'Umweltbewegung', 'Bohrt', 'brüten', 'vergiften', 'hügelig', 'schleppen', 'hinreißen', 'Knick', 'Ponyhof', 'Reitplatz', 'Weidefläche', 'Zuchthengst', 'Bergamotte', 'Hengst', 'Potenz', 'Klient', 'ahnungslos', 'Pferdebesitzer', 'Pferdeflüsterin', 'Wertsteigerung', 'Industriegebiete', 'Unternehmerinnen', 'substanzieller', 'Anderenfalls', 'Verzückung', 'überschreiben', 'schnauben', 'Winseln', 'Vogelzwitschern', 'stopfen', 'Rausgehen', 'schubsen', 'vors', 'verschweigen', 'Viech', 'trau', 'weiterlaufen', 'vorrechnen', 'Finkbeiner', 'reinkommen', 'Piepen', 'Lunch', 'Mistding', 'Feuerstelle', 'qualmen', 'Hochofen', 'Ölheizung', 'belehren', 'auflaufen', 'Ingwerwasser', 'Freilandgemüse', 'spaßen', 'hysterisch', 'übermüden', 'rausgezogen', 'Betty', 'rumlaufen', 'zivilisierter', 'reinzustecken', 'Kinderkrankheit', 'Rasenmäher', 'angeschleppt', 'Bulette', 'Kellnerin', 'anlügen', 'verlogen', 'Lenk', 'Laus', 'hochziehen', 'Gelebte', 'Nikotinsucht', 'räuspern', 'dumpf', 'Pochen', 'Tagesordnungspunkt', 'Champignon', 'Schmunzeln', 'Windpark', 'Windräder', 'beauftragen', 'überbringen', 'werdendes', 'Stimmengewirr', 'übersetz', 'Windkraftanlagen', 'verwirren', 'bewohnen', 'Stromleitungen', 'Ameisenhaufen', 'Windrädern', 'sogenannt', 'Eignungsgebiete', 'Hauptwindrichtung', 'unscharf', 'Waldrand', 'Ausfallstraße', 'Anhöhe', 'Rotor', 'emissionsfrei', 'hocheffizient', 'Nabenhöhe', 'Vorgarten', 'Wörtchen', 'mitreden', 'triefen', 'steuerlich', 'bescheren', 'Spritzenhaus', 'funktionierend', 'Turbine', 'Pacht', 'Raunen', 'Tiergarten', 'zustimmend', 'Umweltstation', 'Irrsinn', 'derartig', 'Ökosystem', 'belieben', 'Umweltveränderungen', 'Fress', 'Brut', 'Migrationsverhalten', 'Ausmalbilder', 'ausmalen', 'höhnisch', 'sämtlich', 'Flurstücken', 'Autoreifen', 'unruhig', 'Passivrauchen', 'Umweltministerium', 'explodieren', 'Chapeau', 'Bierkrüge', 'Unterschriftenlisten', 'selbstgebastelten', 'Resignation', 'Scheißhaus', 'Gewerbesteuer', 'anglotzen', 'abnagen', 'bescheißen', 'uralte', 'anzetteln', 'raushalten', 'gedämpfte', 'Gitarrenmusik', 'Pfiff', 'Glotzt', 'Lernerfahrung', 'verkrampfen', 'verrennen', 'auszeichnen', 'Baumarkt', 'seufzen', 'einfädeln', 'Schiefen', 'Windmühlen', 'Kleingedrucktes', 'kapieren', 'nullen', 'nachdenklich', 'stimmend', 'Türknallen', 'angeleiert', 'Beeil', 'versau', 'Windkraft', 'Ressort', 'Umweltschützer', 'ander', 'Landmann', 'Freiwild', 'Lobbyist', 'Naturschützer', 'Elektrosmog', 'Infraschall', 'Schlagschatten', 'Brutverhalten', 'ignorante', 'Unterschriftenliste', 'irgendwen', 'kaputtmachen', 'Bauernverband', 'absprechen', 'Alltägliches', 'Katasteramt', 'sauern', 'Hecheln', 'Hundeleinen', 'Stadtmenschen', 'abreißen', 'abbauen', 'Obstwiesen', 'Ausladen', 'Immobilienfonds', 'Heuschrecke', 'aufkaufen', 'Aufzugklingel', 'Klaviermusik', 'Herrgott', 'stagnieren', 'Trendwende', 'Ausschreibungsunterlagen', 'Kerngeschäft', 'abkaufen', 'Mitbewerbern', 'Formsache', 'Vorarbeiter', 'bündeln', 'einmischen', 'ungestraft', 'Großbauer', 'freigeben', 'wittern', 'Nulltarif', 'Katzenfrau', 'Schauermärchen', 'Versprich']\n"
     ]
    }
   ],
   "source": [
    "if __name__ == '__main__':\n",
    "    main()"
   ]
  }
 ],
 "metadata": {
  "jupytext": {
   "cell_metadata_filter": "-all",
   "encoding": "# -*- coding: utf-8 -*-",
   "executable": "/usr/bin/env python3",
   "main_language": "python",
   "notebook_metadata_filter": "-all"
  },
  "kernelspec": {
   "display_name": "Python 3",
   "language": "python",
   "name": "python3"
  },
  "language_info": {
   "codemirror_mode": {
    "name": "ipython",
    "version": 3
   },
   "file_extension": ".py",
   "mimetype": "text/x-python",
   "name": "python",
   "nbconvert_exporter": "python",
   "pygments_lexer": "ipython3",
   "version": "3.6.5"
  }
 },
 "nbformat": 4,
 "nbformat_minor": 2
}
